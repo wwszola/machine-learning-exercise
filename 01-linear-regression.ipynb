{
 "cells": [
  {
   "cell_type": "code",
   "execution_count": 165,
   "metadata": {},
   "outputs": [],
   "source": [
    "import numpy as np\n",
    "import pandas as pd\n",
    "import matplotlib.pyplot as plt"
   ]
  },
  {
   "cell_type": "code",
   "execution_count": 10,
   "metadata": {},
   "outputs": [
    {
     "name": "stdout",
     "output_type": "stream",
     "text": [
      "(205, 26)\n",
      "{'car_ID': dtype('int64'), 'symboling': dtype('int64'), 'CarName': dtype('O'), 'fueltype': dtype('O'), 'aspiration': dtype('O'), 'doornumber': dtype('O'), 'carbody': dtype('O'), 'drivewheel': dtype('O'), 'enginelocation': dtype('O'), 'wheelbase': dtype('float64'), 'carlength': dtype('float64'), 'carwidth': dtype('float64'), 'carheight': dtype('float64'), 'curbweight': dtype('int64'), 'enginetype': dtype('O'), 'cylindernumber': dtype('O'), 'enginesize': dtype('int64'), 'fuelsystem': dtype('O'), 'boreratio': dtype('float64'), 'stroke': dtype('float64'), 'compressionratio': dtype('float64'), 'horsepower': dtype('int64'), 'peakrpm': dtype('int64'), 'citympg': dtype('int64'), 'highwaympg': dtype('int64'), 'price': dtype('float64')}\n"
     ]
    }
   ],
   "source": [
    "car_data = pd.read_csv(\"data/CarPrices.csv\")\n",
    "print(car_data.shape)\n",
    "print(car_data.dtypes.to_dict())\n"
   ]
  },
  {
   "cell_type": "code",
   "execution_count": 202,
   "metadata": {},
   "outputs": [],
   "source": [
    "split = 200\n",
    "selected_columns = [\"horsepower\", \"citympg\", \"highwaympg\"]"
   ]
  },
  {
   "cell_type": "code",
   "execution_count": 203,
   "metadata": {},
   "outputs": [],
   "source": [
    "selected_data = car_data[selected_columns]\n",
    "x_train = selected_data[:split].to_numpy()\n",
    "x_test = selected_data[split:].to_numpy()\n",
    "\n",
    "prices = car_data[\"price\"]\n",
    "y_train = prices[:split].to_numpy()\n",
    "y_test = prices[split:].to_numpy()"
   ]
  },
  {
   "cell_type": "code",
   "execution_count": 204,
   "metadata": {},
   "outputs": [],
   "source": [
    "def h(params, x):\n",
    "    return np.inner(params, x)\n",
    "\n",
    "def linear_regression(xs, ys, learning_rate = 1e-8, max_iter = 100):\n",
    "    params = np.random.standard_normal(xs.shape[1])\n",
    "    # params = np.zeros(xs.shape[1])\n",
    "    for _ in range(max_iter):\n",
    "        hs = np.array([h(params, x) for x in xs])\n",
    "        errors = ys - hs\n",
    "        change = (errors * xs.T).T\n",
    "        change = np.sum(change, 0)\n",
    "        params = params + learning_rate*change\n",
    "    return params        \n",
    "        \n"
   ]
  },
  {
   "cell_type": "code",
   "execution_count": 205,
   "metadata": {},
   "outputs": [
    {
     "name": "stdout",
     "output_type": "stream",
     "text": [
      "[  3.26624845 112.78070242  17.6368208   22.20798449]\n"
     ]
    }
   ],
   "source": [
    "intercept_term = np.ones((x_train.shape[0], 1))\n",
    "xs = np.hstack((intercept_term, x_train))\n",
    "ys = y_train\n",
    "\n",
    "params = linear_regression(xs, ys, 1e-8, 100)\n",
    "print(params)"
   ]
  },
  {
   "cell_type": "code",
   "execution_count": 206,
   "metadata": {},
   "outputs": [
    {
     "data": {
      "text/plain": [
       "[<matplotlib.lines.Line2D at 0x258a4eeef50>]"
      ]
     },
     "execution_count": 206,
     "metadata": {},
     "output_type": "execute_result"
    },
    {
     "data": {
      "image/png": "[encoded data removed]",
      "text/plain": [
       "<Figure size 432x288 with 1 Axes>"
      ]
     },
     "metadata": {
      "needs_background": "light"
     },
     "output_type": "display_data"
    }
   ],
   "source": [
    "xs = car_data[\"horsepower\"]\n",
    "ys = car_data[\"price\"]\n",
    "plt.scatter(xs, ys, marker='.')\n",
    "\n",
    "b = params[0]\n",
    "a = params[1]\n",
    "xs = np.linspace(0, 300, 2)\n",
    "ys = xs*a + b\n",
    "plt.plot(xs, ys)\n"
   ]
  }
 ],
 "metadata": {
  "kernelspec": {
   "display_name": "Python 3",
   "language": "python",
   "name": "python3"
  },
  "language_info": {
   "codemirror_mode": {
    "name": "ipython",
    "version": 3
   },
   "file_extension": ".py",
   "mimetype": "text/x-python",
   "name": "python",
   "nbconvert_exporter": "python",
   "pygments_lexer": "ipython3",
   "version": "3.10.2"
  }
 },
 "nbformat": 4,
 "nbformat_minor": 2
}
