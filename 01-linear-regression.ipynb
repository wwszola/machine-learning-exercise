{
 "cells": [
  {
   "cell_type": "code",
   "execution_count": 160,
   "metadata": {},
   "outputs": [],
   "source": [
    "import numpy as np\n",
    "import pandas as pd\n",
    "import matplotlib.pyplot as plt"
   ]
  },
  {
   "cell_type": "code",
   "execution_count": 161,
   "metadata": {},
   "outputs": [
    {
     "name": "stdout",
     "output_type": "stream",
     "text": [
      "(205, 26)\n",
      "{'car_ID': dtype('int64'), 'symboling': dtype('int64'), 'CarName': dtype('O'), 'fueltype': dtype('O'), 'aspiration': dtype('O'), 'doornumber': dtype('O'), 'carbody': dtype('O'), 'drivewheel': dtype('O'), 'enginelocation': dtype('O'), 'wheelbase': dtype('float64'), 'carlength': dtype('float64'), 'carwidth': dtype('float64'), 'carheight': dtype('float64'), 'curbweight': dtype('int64'), 'enginetype': dtype('O'), 'cylindernumber': dtype('O'), 'enginesize': dtype('int64'), 'fuelsystem': dtype('O'), 'boreratio': dtype('float64'), 'stroke': dtype('float64'), 'compressionratio': dtype('float64'), 'horsepower': dtype('int64'), 'peakrpm': dtype('int64'), 'citympg': dtype('int64'), 'highwaympg': dtype('int64'), 'price': dtype('float64')}\n"
     ]
    }
   ],
   "source": [
    "car_data = pd.read_csv(\"data/CarPrices.csv\")\n",
    "print(car_data.shape)\n",
    "print(car_data.dtypes.to_dict())\n"
   ]
  },
  {
   "cell_type": "code",
   "execution_count": 162,
   "metadata": {},
   "outputs": [],
   "source": [
    "split = 200\n",
    "predictor_variables = [\"horsepower\"]\n",
    "predicted_variable = \"price\""
   ]
  },
  {
   "cell_type": "code",
   "execution_count": 163,
   "metadata": {},
   "outputs": [],
   "source": [
    "selected_data = car_data[predictor_variables]\n",
    "x_train = selected_data[:split].to_numpy()\n",
    "x_test = selected_data[split:].to_numpy()\n",
    "\n",
    "prices = car_data[predicted_variable]\n",
    "y_train = prices[:split].to_numpy()\n",
    "y_test = prices[split:].to_numpy()"
   ]
  },
  {
   "cell_type": "code",
   "execution_count": 164,
   "metadata": {},
   "outputs": [],
   "source": [
    "def h(params, x):\n",
    "    return np.inner(params, x)\n",
    "\n",
    "# using batch gradient descent update rule\n",
    "def linear_regression_bgd(xs, ys, learning_rate = 1e-8, max_iter = 100):\n",
    "    # params = np.random.standard_normal(xs.shape[1])\n",
    "    params = np.zeros(xs.shape[1])\n",
    "    for _ in range(max_iter):\n",
    "        hs = np.array([h(params, x) for x in xs])\n",
    "        errors = ys - hs\n",
    "        grad = np.sum(errors * xs.T, 1)\n",
    "        params = params + learning_rate*grad\n",
    "    return params\n",
    "\n",
    "# using stochastic gradient descent update rule\n",
    "def linear_regression_sgd(xs, ys, learning_rate = 1e-8, max_iter = 10):\n",
    "    params = np.zeros(xs.shape[1])\n",
    "    for _ in range(max_iter):\n",
    "        for x, y in zip(xs, ys):\n",
    "            h_ = h(params, x)\n",
    "            error = y - h_\n",
    "            grad = error * x\n",
    "            params = params + learning_rate*grad\n",
    "    return params\n",
    "\n",
    "# using closed form solution to the linear reggresion problem\n",
    "def linear_regression_closed(xs, ys):\n",
    "    xtx = xs.T @ xs\n",
    "    xxtinv = np.linalg.inv(xtx)\n",
    "    params = xxtinv @ xs.T @ ys\n",
    "    return params\n",
    "    "
   ]
  },
  {
   "cell_type": "code",
   "execution_count": 165,
   "metadata": {},
   "outputs": [
    {
     "name": "stdout",
     "output_type": "stream",
     "text": [
      "[-144.04483898  205.70516084]\n"
     ]
    }
   ],
   "source": [
    "intercept_term = np.ones((x_train.shape[0], 1))\n",
    "xs = np.hstack((intercept_term, x_train))\n",
    "ys = y_train\n",
    "\n",
    "# print(np.hstack((xs, ys[:, np.newaxis])))\n",
    "\n",
    "params = linear_regression_sgd(xs, ys, 1e-4, 1)\n",
    "print(params)"
   ]
  },
  {
   "cell_type": "code",
   "execution_count": 166,
   "metadata": {},
   "outputs": [
    {
     "data": {
      "text/plain": [
       "[<matplotlib.lines.Line2D at 0x1a1069e7d30>]"
      ]
     },
     "execution_count": 166,
     "metadata": {},
     "output_type": "execute_result"
    },
    {
     "data": {
      "image/png": "[encoded data removed]",
      "text/plain": [
       "<Figure size 432x288 with 1 Axes>"
      ]
     },
     "metadata": {
      "needs_background": "light"
     },
     "output_type": "display_data"
    }
   ],
   "source": [
    "X = xs[:, 1]\n",
    "Y = ys\n",
    "plt.scatter(X, Y, marker='.')\n",
    "\n",
    "b = params[0]\n",
    "a = params[1]\n",
    "X = np.linspace(min(X), max(X), 2)\n",
    "Y = X*a + b\n",
    "plt.plot(X, Y)\n"
   ]
  }
 ],
 "metadata": {
  "kernelspec": {
   "display_name": "Python 3",
   "language": "python",
   "name": "python3"
  },
  "language_info": {
   "codemirror_mode": {
    "name": "ipython",
    "version": 3
   },
   "file_extension": ".py",
   "mimetype": "text/x-python",
   "name": "python",
   "nbconvert_exporter": "python",
   "pygments_lexer": "ipython3",
   "version": "3.10.2"
  }
 },
 "nbformat": 4,
 "nbformat_minor": 2
}
