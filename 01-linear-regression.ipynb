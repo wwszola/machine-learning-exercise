{
 "cells": [
  {
   "cell_type": "code",
   "execution_count": 1,
   "metadata": {},
   "outputs": [],
   "source": [
    "import numpy as np\n",
    "import pandas as pd\n",
    "import matplotlib.pyplot as plt"
   ]
  },
  {
   "cell_type": "code",
   "execution_count": 2,
   "metadata": {},
   "outputs": [],
   "source": [
    "from normalizer import ZScoreNormalizer"
   ]
  },
  {
   "cell_type": "code",
   "execution_count": 3,
   "metadata": {},
   "outputs": [
    {
     "name": "stdout",
     "output_type": "stream",
     "text": [
      "(205, 26)\n",
      "{'car_ID': dtype('int64'), 'symboling': dtype('int64'), 'CarName': dtype('O'), 'fueltype': dtype('O'), 'aspiration': dtype('O'), 'doornumber': dtype('O'), 'carbody': dtype('O'), 'drivewheel': dtype('O'), 'enginelocation': dtype('O'), 'wheelbase': dtype('float64'), 'carlength': dtype('float64'), 'carwidth': dtype('float64'), 'carheight': dtype('float64'), 'curbweight': dtype('int64'), 'enginetype': dtype('O'), 'cylindernumber': dtype('O'), 'enginesize': dtype('int64'), 'fuelsystem': dtype('O'), 'boreratio': dtype('float64'), 'stroke': dtype('float64'), 'compressionratio': dtype('float64'), 'horsepower': dtype('int64'), 'peakrpm': dtype('int64'), 'citympg': dtype('int64'), 'highwaympg': dtype('int64'), 'price': dtype('float64')}\n"
     ]
    }
   ],
   "source": [
    "car_data = pd.read_csv(\"data/CarPrices.csv\")\n",
    "print(car_data.shape)\n",
    "print(car_data.dtypes.to_dict())\n"
   ]
  },
  {
   "cell_type": "code",
   "execution_count": 4,
   "metadata": {},
   "outputs": [],
   "source": [
    "split = 200\n",
    "predictor_variables = [\"citympg\", \"highwaympg\", \"horsepower\"]\n",
    "predicted_variable = \"price\""
   ]
  },
  {
   "cell_type": "code",
   "execution_count": 5,
   "metadata": {},
   "outputs": [],
   "source": [
    "selected_data = car_data[predictor_variables]\n",
    "x_train = selected_data[:split].to_numpy()\n",
    "x_test = selected_data[split:].to_numpy()\n",
    "\n",
    "prices = car_data[predicted_variable]\n",
    "y_train = prices[:split].to_numpy()\n",
    "y_test = prices[split:].to_numpy()"
   ]
  },
  {
   "cell_type": "code",
   "execution_count": 6,
   "metadata": {},
   "outputs": [],
   "source": [
    "def h(params, x):\n",
    "    return np.inner(params, x)\n",
    "\n",
    "# using batch gradient descent update rule\n",
    "def linear_regression_bgd(xs, ys, learning_rate = 1e-8, max_iter = 100):\n",
    "    # params = np.random.standard_normal(xs.shape[1])\n",
    "    params = np.zeros(xs.shape[1])\n",
    "    for _ in range(max_iter):\n",
    "        hs = np.array([h(params, x) for x in xs])\n",
    "        errors = ys - hs\n",
    "        grad = np.sum(errors * xs.T, 1)\n",
    "        params = params + learning_rate*grad\n",
    "    return params\n",
    "\n",
    "# using stochastic gradient descent update rule\n",
    "def linear_regression_sgd(xs, ys, learning_rate = 1e-8, max_iter = 10):\n",
    "    params = np.zeros(xs.shape[1])\n",
    "    for _ in range(max_iter):\n",
    "        for x, y in zip(xs, ys):\n",
    "            h_ = h(params, x)\n",
    "            error = y - h_\n",
    "            grad = error * x\n",
    "            params = params + learning_rate*grad\n",
    "    return params\n",
    "\n",
    "# using closed form solution to the linear reggresion problem\n",
    "def linear_regression_closed(xs, ys):\n",
    "    xtx = xs.T @ xs\n",
    "    xxtinv = np.linalg.inv(xtx)\n",
    "    params = xxtinv @ xs.T @ ys\n",
    "    return params\n",
    "\n",
    "def least_squares_cost(params, xs, ys):\n",
    "    hs = np.array([h(params, x) for x in xs])\n",
    "    errors = hs - ys\n",
    "    return 0.5 * np.sum(np.square(errors))\n"
   ]
  },
  {
   "cell_type": "code",
   "execution_count": 19,
   "metadata": {},
   "outputs": [
    {
     "name": "stdout",
     "output_type": "stream",
     "text": [
      "[11007.39720922  -810.3327169  -1132.57699675  2724.77735762]\n"
     ]
    }
   ],
   "source": [
    "intercept_term = np.ones((x_train.shape[0], 1))\n",
    "xs = np.hstack((intercept_term, x_train))\n",
    "\n",
    "feature_normalizer = ZScoreNormalizer()\n",
    "feature_normalizer.fit(xs, ignore_features=[0])\n",
    "xs_norm = feature_normalizer.transform(xs)\n",
    "\n",
    "ys = y_train\n",
    "\n",
    "# print(np.hstack((xs, ys[:, np.newaxis])))\n",
    "\n",
    "params = linear_regression_sgd(xs_norm, ys, 1e-2, 1)\n",
    "print(params)"
   ]
  },
  {
   "cell_type": "code",
   "execution_count": 20,
   "metadata": {},
   "outputs": [
    {
     "data": {
      "text/plain": [
       "ZScoreNormalizer(features_shape: (4,) mean: [-- 25.325 30.88 103.58] standard deviation: [-- 6.555102974019554 6.900405785169449 39.669302993624676])"
      ]
     },
     "execution_count": 20,
     "metadata": {},
     "output_type": "execute_result"
    }
   ],
   "source": [
    "feature_normalizer"
   ]
  },
  {
   "cell_type": "code",
   "execution_count": 23,
   "metadata": {},
   "outputs": [
    {
     "data": {
      "text/plain": [
       "[<matplotlib.lines.Line2D at 0x216d94087c0>]"
      ]
     },
     "execution_count": 23,
     "metadata": {},
     "output_type": "execute_result"
    },
    {
     "data": {
      "image/png": "[encoded data removed]",
      "text/plain": [
       "<Figure size 432x288 with 1 Axes>"
      ]
     },
     "metadata": {
      "needs_background": "light"
     },
     "output_type": "display_data"
    }
   ],
   "source": [
    "feature = 1\n",
    "X = xs[:, feature]\n",
    "X_norm = xs_norm[:, feature]\n",
    "Y_real = ys\n",
    "plt.scatter(X, Y_real, marker='.')\n",
    "\n",
    "b = params[0]\n",
    "a = params[feature]\n",
    "X_line = np.linspace(min(X), max(X), 2)\n",
    "X_line_norm = feature_normalizer.transform(X_line, [feature])\n",
    "Y_line = X_line_norm*a + b\n",
    "\n",
    "plt.plot(X_line, Y_line)\n"
   ]
  }
 ],
 "metadata": {
  "kernelspec": {
   "display_name": "Python 3",
   "language": "python",
   "name": "python3"
  },
  "language_info": {
   "codemirror_mode": {
    "name": "ipython",
    "version": 3
   },
   "file_extension": ".py",
   "mimetype": "text/x-python",
   "name": "python",
   "nbconvert_exporter": "python",
   "pygments_lexer": "ipython3",
   "version": "3.10.2"
  }
 },
 "nbformat": 4,
 "nbformat_minor": 2
}
